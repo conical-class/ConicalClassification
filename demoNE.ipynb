{
  "nbformat": 4,
  "nbformat_minor": 0,
  "metadata": {
    "colab": {
      "name": "testNE.ipynb",
      "provenance": [],
      "collapsed_sections": []
    },
    "kernelspec": {
      "display_name": "Python 3",
      "name": "python3"
    },
    "language_info": {
      "name": "python"
    }
  },
  "cells": [
    {
      "cell_type": "code",
      "metadata": {
        "colab": {
          "base_uri": "https://localhost:8080/"
        },
        "id": "T_676RR0mni7",
        "outputId": "e1daae83-85aa-498e-929d-ba2058e1b4ba"
      },
      "source": [
        "# this mounts your Google Drive to the Colab VM.\n",
        "from google.colab import drive\n",
        "drive.mount('/content/drive', force_remount=True)\n",
        "\n",
        "FOLDERNAME = \"ConicalClassificationGithub\"\n",
        "assert FOLDERNAME is not None, \"[!] Enter the foldername.\"\n",
        "\n",
        "import sys\n",
        "sys.path.append('/content/drive/My Drive/{}'.format(FOLDERNAME))\n",
        "\n",
        "%cd drive/My\\ Drive\n",
        "%cd $FOLDERNAME"
      ],
      "execution_count": 1,
      "outputs": [
        {
          "output_type": "stream",
          "text": [
            "Mounted at /content/drive\n",
            "/content/drive/My Drive\n",
            "/content/drive/My Drive/ConicalClassificationGithub\n"
          ],
          "name": "stdout"
        }
      ]
    },
    {
      "cell_type": "code",
      "metadata": {
        "id": "n-4ERSMjHiJN"
      },
      "source": [
        "from sklearn.feature_extraction.text import CountVectorizer\n",
        "from sklearn.datasets import load_files\n",
        "import codecs as cs\n",
        "from load_dataset import *\n",
        "\n",
        "X_train, y_train, X_valid, y_valid, X_test, y_test = load_and_split()"
      ],
      "execution_count": 2,
      "outputs": []
    },
    {
      "cell_type": "code",
      "metadata": {
        "id": "iPesfR07Rdtd"
      },
      "source": [
        "countVec = CountVectorizer(stop_words=\"english\", binary=True, ngram_range=(1, 1), strip_accents='unicode')\n",
        "countVec.fit(X_train)\n",
        "vocab = countVec.vocabulary_\n",
        "X_vec = countVec.transform(X_train)"
      ],
      "execution_count": 3,
      "outputs": []
    },
    {
      "cell_type": "code",
      "metadata": {
        "id": "QzAHaTOTwK_y",
        "colab": {
          "base_uri": "https://localhost:8080/"
        },
        "outputId": "fc8a6db0-63a0-4bf6-b811-d4f6d7c6fdbf"
      },
      "source": [
        "%load_ext autoreload\n",
        "%autoreload 2\n",
        "\n",
        "from ficlearn.feature_extraction.normalExclusion import NETransformer\n",
        "ne = NETransformer(vocab=vocab)\n",
        "ne.fit(X_vec)\n",
        "X_ne = ne.transform(X_vec).toarray()"
      ],
      "execution_count": 4,
      "outputs": [
        {
          "output_type": "stream",
          "text": [
            "[nltk_data] Downloading package wordnet to /root/nltk_data...\n",
            "[nltk_data]   Package wordnet is already up-to-date!\n"
          ],
          "name": "stdout"
        }
      ]
    },
    {
      "cell_type": "code",
      "metadata": {
        "colab": {
          "base_uri": "https://localhost:8080/"
        },
        "id": "MX3haT38_Not",
        "outputId": "9f9caf74-91c5-4eed-ac2e-3b6e3130f11e"
      },
      "source": [
        "from sklearn.svm import OneClassSVM\n",
        "from sklearn.metrics import *\n",
        "\n",
        "svm = OneClassSVM(kernel=\"linear\")\n",
        "svm.fit(X_ne)\n",
        "\n",
        "y_pred = svm.predict(ne.transform(countVec.transform(X_valid)).toarray())\n",
        "y_pred[y_pred < 0] = 0\n",
        "print(f\"Validation accuracy: {accuracy_score(y_valid, y_pred)}\")\n",
        "\n",
        "y_pred = svm.predict(ne.transform(countVec.transform(X_test)).toarray())\n",
        "y_pred[y_pred < 0] = 0\n",
        "print(f\"Testing accuracy: {accuracy_score(y_test, y_pred)}\")"
      ],
      "execution_count": 5,
      "outputs": [
        {
          "output_type": "stream",
          "text": [
            "Validation accuracy: 0.9998781206199597\n",
            "Testing accuracy: 0.9998781255712864\n"
          ],
          "name": "stdout"
        }
      ]
    }
  ]
}

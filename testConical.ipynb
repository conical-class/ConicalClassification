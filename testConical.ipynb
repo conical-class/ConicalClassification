{
  "nbformat": 4,
  "nbformat_minor": 0,
  "metadata": {
    "colab": {
      "name": "testConical.ipynb",
      "provenance": [],
      "collapsed_sections": []
    },
    "kernelspec": {
      "display_name": "Python 3",
      "name": "python3"
    },
    "language_info": {
      "name": "python"
    }
  },
  "cells": [
    {
      "cell_type": "code",
      "metadata": {
        "colab": {
          "base_uri": "https://localhost:8080/"
        },
        "id": "T_676RR0mni7",
        "outputId": "9d01f4cb-90b5-467d-e72f-197d343419d4"
      },
      "source": [
        "# this mounts your Google Drive to the Colab VM.\n",
        "from google.colab import drive\n",
        "drive.mount('/content/drive', force_remount=True)\n",
        "\n",
        "FOLDERNAME = \"ConicalClassificationGithub\"\n",
        "assert FOLDERNAME is not None, \"[!] Enter the foldername.\"\n",
        "\n",
        "import sys\n",
        "sys.path.append('/content/drive/My Drive/{}'.format(FOLDERNAME))\n",
        "\n",
        "%cd drive/My\\ Drive\n",
        "%cd $FOLDERNAME"
      ],
      "execution_count": 1,
      "outputs": [
        {
          "output_type": "stream",
          "text": [
            "Mounted at /content/drive\n",
            "/content/drive/My Drive\n",
            "/content/drive/My Drive/ConicalClassificationGithub\n"
          ],
          "name": "stdout"
        }
      ]
    },
    {
      "cell_type": "code",
      "metadata": {
        "id": "n-4ERSMjHiJN"
      },
      "source": [
        "from sklearn.datasets import load_files\n",
        "import codecs as cs\n",
        "from load_dataset import *\n",
        "\n",
        "X_train, y_train, X_valid, y_valid, X_test, y_test = load_and_split()"
      ],
      "execution_count": 2,
      "outputs": []
    },
    {
      "cell_type": "code",
      "metadata": {
        "id": "_6XD1y3s7lBI",
        "colab": {
          "base_uri": "https://localhost:8080/"
        },
        "outputId": "87a2f8ff-c203-46a9-e253-ce8e674ea934"
      },
      "source": [
        "from conical import CorpusClassification\n",
        "from hyperopt import fmin, hp, tpe, Trials, space_eval, STATUS_OK, STATUS_FAIL\n",
        "from hyperopt.pyll import scope as ho_scope\n",
        "from hyperopt.pyll.stochastic import sample as ho_sample\n",
        "import pickle\n",
        "\n",
        "def load_model():\n",
        "    space = {\n",
        "        'remove_outliers': hp.choice('remove_outliers', [True, False]),\n",
        "        'use_bns': hp.choice('use_bns', [True, False]),\n",
        "        'final_norm': hp.choice('final_norm', ['l1', 'l2', 'max', None]),\n",
        "        'norm': hp.choice('norm', ['l1', 'l2', None]),\n",
        "        'sublinear_tf': hp.choice('sublinear_tf', [True, False]),\n",
        "        'max_features': ho_scope.int(hp.quniform('max_features', 1, 10000, q=1)),\n",
        "\n",
        "        'idf': hp.choice('idf', [\n",
        "            {\n",
        "                'use_idf': True,\n",
        "                'smooth_idf': hp.choice('smooth_idf', [True, False]),\n",
        "            },\n",
        "            {\n",
        "                'use_idf': False,\n",
        "            }\n",
        "        ])\n",
        "    }\n",
        "    trials = pickle.load(open(\"Conical_Demo.hyperopt\",\"rb\"))\n",
        "    best_trial = {}\n",
        "    for key in trials.best_trial['misc']['vals']:\n",
        "        try:\n",
        "            best_trial[key] = trials.best_trial['misc']['vals'][key][0]\n",
        "        except:\n",
        "            best_trial[key] = 0\n",
        "    argDict = space_eval(space, best_trial)\n",
        "    idfDict = argDict.pop(\"idf\")\n",
        "    for key in idfDict:\n",
        "        argDict[key] = idfDict[key]\n",
        "    return CorpusClassification(argDict)"
      ],
      "execution_count": 3,
      "outputs": [
        {
          "output_type": "stream",
          "text": [
            "[nltk_data] Downloading package wordnet to /root/nltk_data...\n",
            "[nltk_data]   Package wordnet is already up-to-date!\n"
          ],
          "name": "stdout"
        }
      ]
    },
    {
      "cell_type": "code",
      "metadata": {
        "id": "iPesfR07Rdtd"
      },
      "source": [
        "model = load_model()\n",
        "model.fit(X_train)"
      ],
      "execution_count": 4,
      "outputs": []
    },
    {
      "cell_type": "code",
      "metadata": {
        "colab": {
          "base_uri": "https://localhost:8080/"
        },
        "id": "MX3haT38_Not",
        "outputId": "c7b5b6d8-deed-4239-97a2-f7f9de5e1f1d"
      },
      "source": [
        "from sklearn.svm import OneClassSVM\n",
        "from sklearn.metrics import *\n",
        "\n",
        "y_pred = model.predict(X_valid)\n",
        "print(f\"Validation accuracy: {accuracy_score(y_valid, y_pred)}\")\n",
        "\n",
        "y_pred = model.predict(X_test)\n",
        "print(f\"Testing accuracy: {accuracy_score(y_test, y_pred)}\")"
      ],
      "execution_count": 5,
      "outputs": [
        {
          "output_type": "stream",
          "text": [
            "Validation accuracy: 1.0\n",
            "Testing accuracy: 1.0\n"
          ],
          "name": "stdout"
        }
      ]
    }
  ]
}